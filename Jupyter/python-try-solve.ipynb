{
 "cells": [
  {
   "cell_type": "markdown",
   "metadata": {},
   "source": [
    "# 1.Python program to check whether the given number is even or not."
   ]
  },
  {
   "cell_type": "code",
   "execution_count": 1,
   "metadata": {},
   "outputs": [
    {
     "name": "stdout",
     "output_type": "stream",
     "text": [
      "Enter a number 12\n",
      " The number is Even \n"
     ]
    }
   ],
   "source": [
    "number = input(\"Enter a number \")\n",
    "\n",
    "x = int(number)%2\n",
    "if x == 0:\n",
    "    print(\" The number is Even \")\n",
    "else:\n",
    "    print(\" The number is odd \")"
   ]
  },
  {
   "cell_type": "markdown",
   "metadata": {},
   "source": [
    "# 2. Python program to convert the temperature in degree centigrade to Fahrenheit"
   ]
  },
  {
   "cell_type": "code",
   "execution_count": 2,
   "metadata": {},
   "outputs": [
    {
     "name": "stdout",
     "output_type": "stream",
     "text": [
      " Enter temperature in Centigrade: 36\n",
      " Temperature in Fahrenheit is:  96.8\n"
     ]
    }
   ],
   "source": [
    "c = input(\" Enter temperature in Centigrade: \")\n",
    "\n",
    "f = (9*(int(c))/5)+32\n",
    "\n",
    "print(\" Temperature in Fahrenheit is: \", f)"
   ]
  },
  {
   "cell_type": "markdown",
   "metadata": {},
   "source": [
    "# 3. Python program to find the area of a triangle whose sides are given"
   ]
  },
  {
   "cell_type": "code",
   "execution_count": 3,
   "metadata": {},
   "outputs": [
    {
     "name": "stdout",
     "output_type": "stream",
     "text": [
      "Enter the length of side a: 3.0\n",
      "Enter the length of side b: 4.0\n",
      "Enter the length of side c: 6.0\n",
      " Area of the triangle is:  5.332682251925386\n"
     ]
    }
   ],
   "source": [
    "import math\n",
    "\n",
    "a = float(input(\"Enter the length of side a: \"))\n",
    "b = float(input(\"Enter the length of side b: \"))\n",
    "c = float(input(\"Enter the length of side c: \"))\n",
    "\n",
    "s = (a+b+c)/2\n",
    "area = math.sqrt(s*(s-a)*(s-b)*(s-c))\n",
    "\n",
    "print(\" Area of the triangle is: \", area)"
   ]
  },
  {
   "cell_type": "markdown",
   "metadata": {},
   "source": [
    "# 4. Python program to find out the average of a set of integers"
   ]
  },
  {
   "cell_type": "code",
   "execution_count": 4,
   "metadata": {},
   "outputs": [
    {
     "name": "stdout",
     "output_type": "stream",
     "text": [
      "Enter the count of numbers: 4\n",
      "Enter an integer: 1\n",
      "Enter an integer: 2\n",
      "Enter an integer: 3\n",
      "Enter an integer: 4\n",
      " The average is:  2.5\n"
     ]
    }
   ],
   "source": [
    "count = int(input(\"Enter the count of numbers: \"))\n",
    "\n",
    "i = 0\n",
    "sum = 0\n",
    "\n",
    "for i in range(count):\n",
    "    x = int(input(\"Enter an integer: \"))\n",
    "    sum = sum + x\n",
    "    \n",
    "avg = sum/count\n",
    "print(\" The average is: \", avg)"
   ]
  },
  {
   "cell_type": "markdown",
   "metadata": {},
   "source": [
    "# 5. Python program to find the product of a set of real numbers"
   ]
  },
  {
   "cell_type": "code",
   "execution_count": 6,
   "metadata": {},
   "outputs": [
    {
     "name": "stdout",
     "output_type": "stream",
     "text": [
      "Enter the number of real numbers: 2\n",
      "Enter a real number: 3\n",
      "Enter a real number: 4\n",
      "The product of the numbers is:  12.0\n"
     ]
    }
   ],
   "source": [
    "i = 0\n",
    "product = 1\n",
    "count = int(input(\"Enter the number of real numbers: \"))\n",
    "\n",
    "for i in range(count):\n",
    "    x = float(input(\"Enter a real number: \"))\n",
    "    product = product * x\n",
    "    \n",
    "print(\"The product of the numbers is: \", product)"
   ]
  },
  {
   "cell_type": "markdown",
   "metadata": {},
   "source": [
    "# 6. Python program to find the circumference and area of a circle with a given radius"
   ]
  },
  {
   "cell_type": "code",
   "execution_count": 7,
   "metadata": {},
   "outputs": [
    {
     "name": "stdout",
     "output_type": "stream",
     "text": [
      "Input the radius of the circle: 2.3\n",
      "The circumference of the circle is:  14.451326206513047\n",
      "The area of the circle is:  16.619025137490002\n"
     ]
    }
   ],
   "source": [
    "import math\n",
    "\n",
    "r = float(input(\"Input the radius of the circle: \"))\n",
    "\n",
    "c = 2 * math.pi * r\n",
    "area = math.pi * r * r\n",
    "\n",
    "print(\"The circumference of the circle is: \", c)\n",
    "print(\"The area of the circle is: \", area)"
   ]
  },
  {
   "cell_type": "markdown",
   "metadata": {},
   "source": [
    "# 7. Python program to check whether the given integer is a multiple of 5"
   ]
  },
  {
   "cell_type": "code",
   "execution_count": 10,
   "metadata": {},
   "outputs": [
    {
     "name": "stdout",
     "output_type": "stream",
     "text": [
      "Enter an integer: 6\n",
      "6 is not a multiple of 5\n"
     ]
    }
   ],
   "source": [
    "number = int(input(\"Enter an integer: \"))\n",
    "\n",
    "if(number%5==0):\n",
    "    print(number, \"is a multiple of 5\")\n",
    "else:\n",
    "    print(number, \"is not a multiple of 5\")"
   ]
  },
  {
   "cell_type": "markdown",
   "metadata": {},
   "source": [
    "# 8. Python program to check whether the given integer is a multiple of both 5 and 7"
   ]
  },
  {
   "cell_type": "code",
   "execution_count": 11,
   "metadata": {},
   "outputs": [
    {
     "name": "stdout",
     "output_type": "stream",
     "text": [
      "Enter an integer: 35\n",
      "35 is a multiple of both 5 and 7\n"
     ]
    }
   ],
   "source": [
    "number = int(input(\"Enter an integer: \"))\n",
    "\n",
    "if((number%5==0)and(number%7==0)):\n",
    "    print(number, \"is a multiple of both 5 and 7\")\n",
    "else:\n",
    "    print(number, \"is not a multiple of both 5 and 7\")"
   ]
  },
  {
   "cell_type": "markdown",
   "metadata": {},
   "source": [
    "# 9. Python program to find the average of 10 numbers using while loop"
   ]
  },
  {
   "cell_type": "code",
   "execution_count": 12,
   "metadata": {},
   "outputs": [
    {
     "name": "stdout",
     "output_type": "stream",
     "text": [
      "Enter a real number: 3.4\n",
      "Enter a real number: 5.6\n",
      "Enter a real number: 2.4\n",
      "Enter a real number: 1.2\n",
      "Enter a real number: 7.3\n",
      "Enter a real number: 4.3\n",
      "Enter a real number: 6.2\n",
      "Enter a real number: 8.4\n",
      "Enter a real number: 9.1\n",
      "Enter a real number: 3.2\n",
      "Average is : 5.11\n"
     ]
    }
   ],
   "source": [
    "count = 0\n",
    "sum = 0.0\n",
    "while(count<10):\n",
    "    number = float(input(\"Enter a real number: \"))\n",
    "    count=count+1\n",
    "    sum = sum+number\n",
    "    \n",
    "avg = sum/10;\n",
    "print(\"Average is :\",avg)"
   ]
  },
  {
   "cell_type": "markdown",
   "metadata": {},
   "source": [
    "# 10. Python program to display the given integer in reverse manner"
   ]
  },
  {
   "cell_type": "code",
   "execution_count": 14,
   "metadata": {},
   "outputs": [
    {
     "name": "stdout",
     "output_type": "stream",
     "text": [
      "Enter a positive integer: 54\n",
      "45\n"
     ]
    }
   ],
   "source": [
    "number = int(input(\"Enter a positive integer: \"))\n",
    "rev = 0\n",
    "\n",
    "while(number!=0):\n",
    "    digit = number%10\n",
    "    rev = (rev*10)+digit\n",
    "    number = number//10\n",
    "    \n",
    "print(rev)"
   ]
  }
 ],
 "metadata": {
  "kernelspec": {
   "display_name": "Python 3",
   "language": "python",
   "name": "python3"
  },
  "language_info": {
   "codemirror_mode": {
    "name": "ipython",
    "version": 3
   },
   "file_extension": ".py",
   "mimetype": "text/x-python",
   "name": "python",
   "nbconvert_exporter": "python",
   "pygments_lexer": "ipython3",
   "version": "3.8.5"
  }
 },
 "nbformat": 4,
 "nbformat_minor": 4
}

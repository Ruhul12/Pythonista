{
 "cells": [
  {
   "cell_type": "markdown",
   "metadata": {},
   "source": [
    "# OOP CONCEPT\n",
    "## Class"
   ]
  },
  {
   "cell_type": "code",
   "execution_count": 4,
   "metadata": {},
   "outputs": [
    {
     "name": "stdout",
     "output_type": "stream",
     "text": [
      "<class '__main__.Restaurant'>\n"
     ]
    }
   ],
   "source": [
    "class Restaurant:\n",
    "    name = ''\n",
    "    owner = ''\n",
    "    \n",
    "    def details(self):\n",
    "        print(self.name, self.owner)\n",
    "        \n",
    "    def details_with_address(self, address):\n",
    "        print(self.name, self.owner)\n",
    "        print(address)\n",
    "\n",
    "restro = Restaurant()\n",
    "restro.name = input('Enter Restaurant Name: ')\n",
    "restro.owner = input('Enter owner Name: ')\n",
    "restro.details_with_address('Bogura')\n",
    "\n",
    "print(type(restro))"
   ]
  },
  {
   "cell_type": "code",
   "execution_count": 6,
   "metadata": {},
   "outputs": [
    {
     "name": "stdout",
     "output_type": "stream",
     "text": [
      "Bill | 24\n",
      "Bill 24\n"
     ]
    }
   ],
   "source": [
    "class Person:\n",
    "    def __init__(self, name, age):\n",
    "        self.name = name\n",
    "        self.age = age\n",
    "        \n",
    "    def details(self):\n",
    "        print(self.name, self.age, sep=' | ')\n",
    "\n",
    "bill = Person('Bill', 24)\n",
    "bill.details()\n",
    "print(bill.name, bill.age)"
   ]
  },
  {
   "cell_type": "code",
   "execution_count": 7,
   "metadata": {},
   "outputs": [
    {
     "name": "stdout",
     "output_type": "stream",
     "text": [
      "Person 0 30\n",
      "Person 1 31\n",
      "Person 2 32\n"
     ]
    }
   ],
   "source": [
    "class Person:\n",
    "    def __init__(self, name, age):\n",
    "        self.name = name\n",
    "        self.age = age\n",
    "        \n",
    "    def details(self):\n",
    "        print(self.name, self.age)\n",
    "\n",
    "people_list = []\n",
    "for x in range(0,3):\n",
    "    person = Person('Person '+str(x), 30+x)\n",
    "    people_list += [person]\n",
    "    \n",
    "for x in people_list:\n",
    "    x.details()\n",
    "        \n"
   ]
  },
  {
   "cell_type": "code",
   "execution_count": 10,
   "metadata": {},
   "outputs": [
    {
     "name": "stdout",
     "output_type": "stream",
     "text": [
      "24\n"
     ]
    }
   ],
   "source": [
    "class Math:\n",
    "    def __init__(self, x, y):\n",
    "        self.x = x\n",
    "        self.y = y\n",
    "        \n",
    "    def sum(self):\n",
    "        return self.x + self.y\n",
    "    \n",
    "math_obj = Math(12, 12)\n",
    "print(math_obj.sum())"
   ]
  },
  {
   "cell_type": "code",
   "execution_count": null,
   "metadata": {},
   "outputs": [],
   "source": []
  }
 ],
 "metadata": {
  "kernelspec": {
   "display_name": "Python 3",
   "language": "python",
   "name": "python3"
  },
  "language_info": {
   "codemirror_mode": {
    "name": "ipython",
    "version": 3
   },
   "file_extension": ".py",
   "mimetype": "text/x-python",
   "name": "python",
   "nbconvert_exporter": "python",
   "pygments_lexer": "ipython3",
   "version": "3.8.5"
  }
 },
 "nbformat": 4,
 "nbformat_minor": 4
}

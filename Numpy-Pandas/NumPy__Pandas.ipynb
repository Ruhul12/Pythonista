{
  "nbformat": 4,
  "nbformat_minor": 0,
  "metadata": {
    "colab": {
      "name": "NumPy & Pandas.ipynb",
      "provenance": []
    },
    "kernelspec": {
      "name": "python3",
      "display_name": "Python 3"
    }
  },
  "cells": [
    {
      "cell_type": "markdown",
      "metadata": {
        "id": "pDb8cWxAzEqE"
      },
      "source": [
        "#NumPy"
      ]
    },
    {
      "cell_type": "code",
      "metadata": {
        "id": "IC1RlYtozH4Y",
        "colab": {
          "base_uri": "https://localhost:8080/"
        },
        "outputId": "e5165a29-93a0-43c7-f56d-3f31aa5484b3"
      },
      "source": [
        "import numpy as np\r\n",
        "arr = np.array([1, 2, 3, 4, 5])\r\n",
        "print(arr)"
      ],
      "execution_count": null,
      "outputs": [
        {
          "output_type": "stream",
          "text": [
            "[1 2 3 4 5]\n"
          ],
          "name": "stdout"
        }
      ]
    },
    {
      "cell_type": "code",
      "metadata": {
        "id": "0qMh9bmizOf1",
        "colab": {
          "base_uri": "https://localhost:8080/"
        },
        "outputId": "8ca84ea2-9cd9-4ecd-bf97-76ce165822a1"
      },
      "source": [
        "print(type(arr))"
      ],
      "execution_count": null,
      "outputs": [
        {
          "output_type": "stream",
          "text": [
            "<class 'numpy.ndarray'>\n"
          ],
          "name": "stdout"
        }
      ]
    },
    {
      "cell_type": "code",
      "metadata": {
        "id": "E5hq1zuYzVeg",
        "colab": {
          "base_uri": "https://localhost:8080/"
        },
        "outputId": "6475e5aa-51ff-479b-a50b-fbb92f58569b"
      },
      "source": [
        "# 0 dimension\r\n",
        "import numpy as np\r\n",
        "arr = np.array([42,34])\r\n",
        "print(arr)"
      ],
      "execution_count": null,
      "outputs": [
        {
          "output_type": "stream",
          "text": [
            "[42 34]\n"
          ],
          "name": "stdout"
        }
      ]
    },
    {
      "cell_type": "code",
      "metadata": {
        "id": "zDhn5-RvzkdE",
        "colab": {
          "base_uri": "https://localhost:8080/"
        },
        "outputId": "d1695885-e06b-4362-b364-d520f4c360f8"
      },
      "source": [
        "# 1 dimension\r\n",
        "import numpy as np\r\n",
        "arr = np.array([1, 2, 3, 4, 5])\r\n",
        "print(arr)"
      ],
      "execution_count": null,
      "outputs": [
        {
          "output_type": "stream",
          "text": [
            "[1 2 3 4 5]\n"
          ],
          "name": "stdout"
        }
      ]
    },
    {
      "cell_type": "code",
      "metadata": {
        "id": "yVqh1jiYzw2U",
        "colab": {
          "base_uri": "https://localhost:8080/"
        },
        "outputId": "9a5a1159-22dc-4d8d-d5c6-108eb53560b1"
      },
      "source": [
        "# 2 dimension\r\n",
        "import numpy as np\r\n",
        "arr = np.array([[1, 2, 3], [4, 5, 6]])\r\n",
        "print(arr)"
      ],
      "execution_count": null,
      "outputs": [
        {
          "output_type": "stream",
          "text": [
            "[[1 2 3]\n",
            " [4 5 6]]\n"
          ],
          "name": "stdout"
        }
      ]
    },
    {
      "cell_type": "code",
      "metadata": {
        "id": "oCSoqe5Jz5cv",
        "colab": {
          "base_uri": "https://localhost:8080/"
        },
        "outputId": "f8dd08ed-07eb-4aa7-8738-a41a521e2247"
      },
      "source": [
        "# High dimension\r\n",
        "import numpy as np\r\n",
        "arr = np.array([1, 2, 3, 4], ndmin=6)\r\n",
        "print(arr)"
      ],
      "execution_count": null,
      "outputs": [
        {
          "output_type": "stream",
          "text": [
            "[[[[[[1 2 3 4]]]]]]\n"
          ],
          "name": "stdout"
        }
      ]
    },
    {
      "cell_type": "code",
      "metadata": {
        "id": "EO3MTQ9A0FBQ",
        "colab": {
          "base_uri": "https://localhost:8080/"
        },
        "outputId": "f3d98fb4-731f-4025-9abb-247017ccd3a1"
      },
      "source": [
        "# Check dimension\r\n",
        "import numpy as np\r\n",
        "a = np.array([[[1, 2, 3], [4, 5, 6]], [[1, 2, 3], [4, 5, 6]]])\r\n",
        "print(a.ndim)"
      ],
      "execution_count": null,
      "outputs": [
        {
          "output_type": "stream",
          "text": [
            "3\n"
          ],
          "name": "stdout"
        }
      ]
    },
    {
      "cell_type": "code",
      "metadata": {
        "id": "XpJ5lxYv0XqN",
        "colab": {
          "base_uri": "https://localhost:8080/"
        },
        "outputId": "59e22ad8-ad95-4579-fa46-7839e76b6e8f"
      },
      "source": [
        "# Array indexing\r\n",
        "arr = np.array([[1,2,3,4,5], [6,7,8,9,10]])\r\n",
        "print(arr[1,3])\r\n",
        "print(arr[0,-2])"
      ],
      "execution_count": null,
      "outputs": [
        {
          "output_type": "stream",
          "text": [
            "9\n",
            "4\n"
          ],
          "name": "stdout"
        }
      ]
    },
    {
      "cell_type": "code",
      "metadata": {
        "id": "k3Nuo_sc07_Z",
        "colab": {
          "base_uri": "https://localhost:8080/"
        },
        "outputId": "41f71ddd-8318-449d-8604-2ef92e6b8fd1"
      },
      "source": [
        "# Array slicing \r\n",
        "import numpy as np\r\n",
        "arr = np.array([1, 2, 3, 4, 5, 6, 7])\r\n",
        "print(arr[::2])"
      ],
      "execution_count": null,
      "outputs": [
        {
          "output_type": "stream",
          "text": [
            "[1 3 5 7]\n"
          ],
          "name": "stdout"
        }
      ]
    },
    {
      "cell_type": "code",
      "metadata": {
        "id": "ENfa5EaF1qwJ",
        "colab": {
          "base_uri": "https://localhost:8080/"
        },
        "outputId": "e546a0a2-2dc4-433d-edd5-6d7ee6b3abd8"
      },
      "source": [
        "import numpy as np\r\n",
        "arr = np.array([[1, 2, 3, 4, 5], [6, 7, 8, 9, 10]])\r\n",
        "print(arr[1, 1:4])"
      ],
      "execution_count": null,
      "outputs": [
        {
          "output_type": "stream",
          "text": [
            "[7 8 9]\n"
          ],
          "name": "stdout"
        }
      ]
    },
    {
      "cell_type": "code",
      "metadata": {
        "id": "6II0ZWnf1xjA",
        "colab": {
          "base_uri": "https://localhost:8080/"
        },
        "outputId": "c3429dae-06d0-4561-8946-a346661078b1"
      },
      "source": [
        "#Data type check\r\n",
        "import numpy as np\r\n",
        "arr = np.array(['apple', 'banana', 'cherry'])\r\n",
        "print(arr.dtype)"
      ],
      "execution_count": null,
      "outputs": [
        {
          "output_type": "stream",
          "text": [
            "<U6\n"
          ],
          "name": "stdout"
        }
      ]
    },
    {
      "cell_type": "code",
      "metadata": {
        "id": "R5bNWxNu2hx1",
        "colab": {
          "base_uri": "https://localhost:8080/"
        },
        "outputId": "c788bfc0-e40f-492e-d403-4ae31c64156c"
      },
      "source": [
        "# Array shape\r\n",
        "import numpy as np\r\n",
        "arr = np.array([1, 2, 3, 4], ndmin=5)\r\n",
        "print(arr)\r\n",
        "print('shape of array :', arr.shape)"
      ],
      "execution_count": null,
      "outputs": [
        {
          "output_type": "stream",
          "text": [
            "[[[[[1 2 3 4]]]]]\n",
            "shape of array : (1, 1, 1, 1, 4)\n"
          ],
          "name": "stdout"
        }
      ]
    },
    {
      "cell_type": "code",
      "metadata": {
        "id": "3Q4x-n7v2w4M",
        "colab": {
          "base_uri": "https://localhost:8080/"
        },
        "outputId": "e1528faa-4b7f-480a-b1f3-737e5e6b47a3"
      },
      "source": [
        "# Reshape array\r\n",
        "import numpy as np\r\n",
        "arr = np.array([1, 2, 3, 4, 5, 6, 7, 8, 9, 10, 11, 12])\r\n",
        "newarr = arr.reshape(4, 3)\r\n",
        "print(newarr)"
      ],
      "execution_count": null,
      "outputs": [
        {
          "output_type": "stream",
          "text": [
            "[[ 1  2  3]\n",
            " [ 4  5  6]\n",
            " [ 7  8  9]\n",
            " [10 11 12]]\n"
          ],
          "name": "stdout"
        }
      ]
    },
    {
      "cell_type": "code",
      "metadata": {
        "id": "AiZbzfxN3Dfu",
        "colab": {
          "base_uri": "https://localhost:8080/"
        },
        "outputId": "0e85aeb2-168e-4cad-e357-eac7587f896c"
      },
      "source": [
        "# Matrix operation\r\n",
        "import numpy as np\r\n",
        "x = np.array([[1, 2], [4, 5]])\r\n",
        "y = np.array([[7, 8], [9, 10]])\r\n",
        "\r\n",
        "print (\"Addition of two matrices: \")\r\n",
        "print (np.add(x,y))\r\n",
        "\r\n",
        "print (\"Subtraction of two matrices : \")\r\n",
        "print (np.subtract(x,y))\r\n",
        "\r\n",
        "print (\"Matrix Division : \")\r\n",
        "print (np.divide(x,y))\r\n",
        "\r\n",
        "print (\"Multiplication of two matrices: \")\r\n",
        "print (np.multiply(x,y))\r\n",
        "\r\n",
        "print (\"The product of two matrices : \")\r\n",
        "print (np.dot(x,y))\r\n",
        "\r\n",
        "print (\"square root is : \")\r\n",
        "print (np.sqrt(x))\r\n",
        "print (\"The summation of elements : \")\r\n",
        "print (np.sum(y))\r\n",
        "\r\n",
        "print (\"The column wise summation  : \")\r\n",
        "print (np.sum(y,axis=0))\r\n",
        "\r\n",
        "print (\"The row wise summation: \")\r\n",
        "print (np.sum(y,axis=1))\r\n",
        "\r\n",
        "print (\"Matrix transposition : \")\r\n",
        "print (x.T)"
      ],
      "execution_count": null,
      "outputs": [
        {
          "output_type": "stream",
          "text": [
            "Addition of two matrices: \n",
            "[[ 8 10]\n",
            " [13 15]]\n",
            "Subtraction of two matrices : \n",
            "[[-6 -6]\n",
            " [-5 -5]]\n",
            "Matrix Division : \n",
            "[[0.14285714 0.25      ]\n",
            " [0.44444444 0.5       ]]\n",
            "Multiplication of two matrices: \n",
            "[[ 7 16]\n",
            " [36 50]]\n",
            "The product of two matrices : \n",
            "[[25 28]\n",
            " [73 82]]\n",
            "square root is : \n",
            "[[1.         1.41421356]\n",
            " [2.         2.23606798]]\n",
            "The summation of elements : \n",
            "34\n",
            "The column wise summation  : \n",
            "[16 18]\n",
            "The row wise summation: \n",
            "[15 19]\n",
            "Matrix transposition : \n",
            "[[1 4]\n",
            " [2 5]]\n"
          ],
          "name": "stdout"
        }
      ]
    },
    {
      "cell_type": "markdown",
      "metadata": {
        "id": "xyx9sUq44WIK"
      },
      "source": [
        "#Pandas"
      ]
    },
    {
      "cell_type": "code",
      "metadata": {
        "id": "BI_ZAa2Y4Kjm",
        "colab": {
          "base_uri": "https://localhost:8080/"
        },
        "outputId": "da7eb391-7203-4886-949b-d42674f9f6ad"
      },
      "source": [
        "# Dataframe creat\r\n",
        "import pandas as pd\r\n",
        "\r\n",
        "mydataset = {\r\n",
        "  'cars': [\"BMW\", \"Volvo\", \"Ford\",\"A\"],\r\n",
        "  'passings': [3, 7, 2,6],\r\n",
        "  'year':[1990,1820,2013,2020]\r\n",
        "}\r\n",
        "\r\n",
        "df = pd.DataFrame(mydataset)\r\n",
        "print(df)"
      ],
      "execution_count": null,
      "outputs": [
        {
          "output_type": "stream",
          "text": [
            "    cars  passings  year\n",
            "0    BMW         3  1990\n",
            "1  Volvo         7  1820\n",
            "2   Ford         2  2013\n",
            "3      A         6  2020\n"
          ],
          "name": "stdout"
        }
      ]
    },
    {
      "cell_type": "code",
      "metadata": {
        "colab": {
          "base_uri": "https://localhost:8080/"
        },
        "id": "XxJmK_TM57-_",
        "outputId": "b46ade53-25cc-4f5d-c7f7-a21ba7942282"
      },
      "source": [
        "#refer to the row index:\r\n",
        "print(df.loc[1])"
      ],
      "execution_count": null,
      "outputs": [
        {
          "output_type": "stream",
          "text": [
            "cars        Volvo\n",
            "passings        7\n",
            "year         1820\n",
            "Name: 1, dtype: object\n"
          ],
          "name": "stdout"
        }
      ]
    },
    {
      "cell_type": "code",
      "metadata": {
        "colab": {
          "base_uri": "https://localhost:8080/"
        },
        "id": "JV__Co1azNQL",
        "outputId": "b8879395-2635-4975-a38c-7494dc18e225"
      },
      "source": [
        "df.shape"
      ],
      "execution_count": null,
      "outputs": [
        {
          "output_type": "execute_result",
          "data": {
            "text/plain": [
              "(4, 3)"
            ]
          },
          "metadata": {
            "tags": []
          },
          "execution_count": 32
        }
      ]
    },
    {
      "cell_type": "code",
      "metadata": {
        "colab": {
          "base_uri": "https://localhost:8080/"
        },
        "id": "KkrzjLAA8eDM",
        "outputId": "54c6ad0c-ffcc-453d-dc4a-3e9a8b57f8eb"
      },
      "source": [
        "#use a list of indexes:\r\n",
        "print(df.loc[[0, 1]])"
      ],
      "execution_count": null,
      "outputs": [
        {
          "output_type": "stream",
          "text": [
            "    cars  passings  year\n",
            "0    BMW         3  1990\n",
            "1  Volvo         7  1820\n"
          ],
          "name": "stdout"
        }
      ]
    },
    {
      "cell_type": "code",
      "metadata": {
        "colab": {
          "base_uri": "https://localhost:8080/"
        },
        "id": "YiTnEy8C8mEB",
        "outputId": "ce2bb053-52ae-41cb-f605-3d1df43278c9"
      },
      "source": [
        "print(df.cars)"
      ],
      "execution_count": null,
      "outputs": [
        {
          "output_type": "stream",
          "text": [
            "0      BMW\n",
            "1    Volvo\n",
            "2     Ford\n",
            "3        A\n",
            "Name: cars, dtype: object\n"
          ],
          "name": "stdout"
        }
      ]
    },
    {
      "cell_type": "code",
      "metadata": {
        "colab": {
          "base_uri": "https://localhost:8080/"
        },
        "id": "wD1DZ-G8-LCh",
        "outputId": "cc89a4dc-24c8-4d96-eda5-1e56197afa6b"
      },
      "source": [
        "print(df.passings)"
      ],
      "execution_count": null,
      "outputs": [
        {
          "output_type": "stream",
          "text": [
            "0    3\n",
            "1    7\n",
            "2    2\n",
            "Name: passings, dtype: int64\n"
          ],
          "name": "stdout"
        }
      ]
    },
    {
      "cell_type": "code",
      "metadata": {
        "id": "9UrcDGHk-Q_I"
      },
      "source": [
        ""
      ],
      "execution_count": null,
      "outputs": []
    }
  ]
}
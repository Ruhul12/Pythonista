{
  "nbformat": 4,
  "nbformat_minor": 0,
  "metadata": {
    "colab": {
      "name": "Week5_Numpy_Lab_2.ipynb",
      "provenance": []
    },
    "kernelspec": {
      "name": "python3",
      "display_name": "Python 3"
    }
  },
  "cells": [
    {
      "cell_type": "markdown",
      "metadata": {
        "id": "rJhAPaERa4bc"
      },
      "source": [
        "#Universal Functions"
      ]
    },
    {
      "cell_type": "code",
      "metadata": {
        "id": "NpCcfjkFa3jR"
      },
      "source": [
        "import numpy as np"
      ],
      "execution_count": null,
      "outputs": []
    },
    {
      "cell_type": "code",
      "metadata": {
        "id": "jGN0mRfhbEsj"
      },
      "source": [
        "num = np.array([1, 4, 9, 16, 25, 36])"
      ],
      "execution_count": null,
      "outputs": []
    },
    {
      "cell_type": "markdown",
      "metadata": {
        "id": "1iuTYwKObJ3z"
      },
      "source": [
        "Arithmetic Operation"
      ]
    },
    {
      "cell_type": "code",
      "metadata": {
        "id": "Pknl2cCHbI6H"
      },
      "source": [
        "np.sqrt(num)"
      ],
      "execution_count": null,
      "outputs": []
    },
    {
      "cell_type": "code",
      "metadata": {
        "id": "_BWt-qiIbh3b"
      },
      "source": [
        "num2 = np.arange(0, 6) * 10"
      ],
      "execution_count": null,
      "outputs": []
    },
    {
      "cell_type": "code",
      "metadata": {
        "id": "kxmdzC8kbrLR"
      },
      "source": [
        "num2"
      ],
      "execution_count": null,
      "outputs": []
    },
    {
      "cell_type": "code",
      "metadata": {
        "id": "Tk6LRDosb9ow"
      },
      "source": [
        "np.add(num, num2)"
      ],
      "execution_count": null,
      "outputs": []
    },
    {
      "cell_type": "code",
      "metadata": {
        "id": "tppDetcBxMva"
      },
      "source": [
        "num3 = np.array([1, 2, 4, 5, 10, 15])"
      ],
      "execution_count": null,
      "outputs": []
    },
    {
      "cell_type": "code",
      "metadata": {
        "id": "Yb4yoZ8xrHdg"
      },
      "source": [
        "np.divide(num, num3)"
      ],
      "execution_count": null,
      "outputs": []
    },
    {
      "cell_type": "code",
      "metadata": {
        "id": "08UBUr7lwvGp"
      },
      "source": [
        "np.mod(num,num3)"
      ],
      "execution_count": null,
      "outputs": []
    },
    {
      "cell_type": "code",
      "metadata": {
        "id": "v6Vsk54MxAGO"
      },
      "source": [
        "np.remainder(num,num3)"
      ],
      "execution_count": null,
      "outputs": []
    },
    {
      "cell_type": "markdown",
      "metadata": {
        "id": "hM_Q-xu_h7ls"
      },
      "source": [
        "Array Product"
      ]
    },
    {
      "cell_type": "code",
      "metadata": {
        "id": "cTnoCLI-TsIu"
      },
      "source": [
        "A = np.array( [[1,1],\r\n",
        "               [0,1]] )\r\n",
        "\r\n",
        "B = np.array( [[2,0],\r\n",
        "               [3,4]] )"
      ],
      "execution_count": null,
      "outputs": []
    },
    {
      "cell_type": "code",
      "metadata": {
        "id": "AxkAffDYT5l1"
      },
      "source": [
        "A * B    # elementwise product"
      ],
      "execution_count": null,
      "outputs": []
    },
    {
      "cell_type": "code",
      "metadata": {
        "id": "ujdkrWWbXO5g"
      },
      "source": [
        "np.multiply(A,B)"
      ],
      "execution_count": null,
      "outputs": []
    },
    {
      "cell_type": "code",
      "metadata": {
        "id": "4TyPXp87T-lo"
      },
      "source": [
        "A @ B    # matrix product"
      ],
      "execution_count": null,
      "outputs": []
    },
    {
      "cell_type": "code",
      "metadata": {
        "id": "StnnmR9uUFBk"
      },
      "source": [
        "A.dot(B)"
      ],
      "execution_count": null,
      "outputs": []
    },
    {
      "cell_type": "markdown",
      "metadata": {
        "id": "2gaaQuMScVDI"
      },
      "source": [
        "Exponents and Logarithms"
      ]
    },
    {
      "cell_type": "code",
      "metadata": {
        "id": "LC_4zpIAcYbP"
      },
      "source": [
        "np.exp(1)"
      ],
      "execution_count": null,
      "outputs": []
    },
    {
      "cell_type": "code",
      "metadata": {
        "id": "LRwprTRteIBE"
      },
      "source": [
        "np.power(3, 3)"
      ],
      "execution_count": null,
      "outputs": []
    },
    {
      "cell_type": "code",
      "metadata": {
        "id": "1rFyZl9beqXb"
      },
      "source": [
        "np.log10(2)"
      ],
      "execution_count": null,
      "outputs": []
    },
    {
      "cell_type": "code",
      "metadata": {
        "id": "_zpreFLZe63l"
      },
      "source": [
        "np.log2(4)"
      ],
      "execution_count": null,
      "outputs": []
    },
    {
      "cell_type": "markdown",
      "metadata": {
        "id": "S7-8ZyyKf3MY"
      },
      "source": [
        "Trigonometric Functions"
      ]
    },
    {
      "cell_type": "code",
      "metadata": {
        "id": "45y8mAyNf5RP"
      },
      "source": [
        "import math\r\n",
        "value = np.array([0,30,45,60,90])"
      ],
      "execution_count": null,
      "outputs": []
    },
    {
      "cell_type": "code",
      "metadata": {
        "id": "czgoHD0agbO2"
      },
      "source": [
        "a = np.sin(value*math.pi/180)  #the result is in Radians\r\n",
        "a"
      ],
      "execution_count": null,
      "outputs": []
    },
    {
      "cell_type": "code",
      "metadata": {
        "id": "6Dlbp3vBOvKm"
      },
      "source": [
        "result = np.arcsin(a)\r\n",
        "result"
      ],
      "execution_count": null,
      "outputs": []
    },
    {
      "cell_type": "code",
      "metadata": {
        "id": "SulrD4kGO4--"
      },
      "source": [
        "np.degrees(result)"
      ],
      "execution_count": null,
      "outputs": []
    },
    {
      "cell_type": "code",
      "metadata": {
        "id": "odvmGbVCgnE9"
      },
      "source": [
        "np.cos(value)"
      ],
      "execution_count": null,
      "outputs": []
    },
    {
      "cell_type": "code",
      "metadata": {
        "id": "O51jH_Iwgose"
      },
      "source": [
        "res = np.tan(value*np.pi/180) # result in Degree\r\n",
        "res"
      ],
      "execution_count": null,
      "outputs": []
    },
    {
      "cell_type": "code",
      "metadata": {
        "id": "F3s24qk0t1XV"
      },
      "source": [
        "inverseOfTan = np.arctan(res)\r\n",
        "inverseOfTan"
      ],
      "execution_count": null,
      "outputs": []
    },
    {
      "cell_type": "code",
      "metadata": {
        "id": "eKhbMJw3t1SF"
      },
      "source": [
        "np.degrees(inverseOfTan)"
      ],
      "execution_count": null,
      "outputs": []
    },
    {
      "cell_type": "code",
      "metadata": {
        "id": "O5TmI1HAOFe9"
      },
      "source": [
        "np.radians()"
      ],
      "execution_count": null,
      "outputs": []
    },
    {
      "cell_type": "code",
      "metadata": {
        "id": "wG2v0jxwON-4"
      },
      "source": [
        "np.deg2rad()"
      ],
      "execution_count": null,
      "outputs": []
    },
    {
      "cell_type": "markdown",
      "metadata": {
        "id": "cw6nXJOhma7p"
      },
      "source": [
        "#Indexing"
      ]
    },
    {
      "cell_type": "code",
      "metadata": {
        "id": "kQSebnjgmeCh"
      },
      "source": [
        "num = np.array([1, 4, 9, 16, 25, 36])"
      ],
      "execution_count": null,
      "outputs": []
    },
    {
      "cell_type": "code",
      "metadata": {
        "id": "F__bODVFmjav"
      },
      "source": [
        "num[1:]"
      ],
      "execution_count": null,
      "outputs": []
    },
    {
      "cell_type": "code",
      "metadata": {
        "id": "M88gfjw3mxp-"
      },
      "source": [
        "grades = np.array([[87, 96, 70],\r\n",
        "                   [100, 87, 90],\r\n",
        "                   [94, 77, 90], \r\n",
        "                   [100, 81, 82]])"
      ],
      "execution_count": null,
      "outputs": []
    },
    {
      "cell_type": "code",
      "metadata": {
        "id": "O6a8e_aEm6hw"
      },
      "source": [
        "grades"
      ],
      "execution_count": null,
      "outputs": []
    },
    {
      "cell_type": "code",
      "metadata": {
        "id": "iD3BTfxxm9oT"
      },
      "source": [
        "grades[2] #select a single row, specify only one index in square brackets"
      ],
      "execution_count": null,
      "outputs": []
    },
    {
      "cell_type": "code",
      "metadata": {
        "id": "d2MeEK41nRkE"
      },
      "source": [
        "grades[0:2] #select multiple sequential rows, use slice notation"
      ],
      "execution_count": null,
      "outputs": []
    },
    {
      "cell_type": "markdown",
      "metadata": {
        "id": "QV4gPhoCGH05"
      },
      "source": [
        "#Array Slicing\r\n",
        "\r\n"
      ]
    },
    {
      "cell_type": "code",
      "metadata": {
        "id": "bYkV-0em--ix"
      },
      "source": [
        "a = np.array([[1,2,3,4], [5,6,7,8], [9,10,11,12],[1,2,3,4], [5,6,7,8], [9,10,11,12]])\r\n"
      ],
      "execution_count": null,
      "outputs": []
    },
    {
      "cell_type": "code",
      "metadata": {
        "id": "UWKZgWw5g7W-"
      },
      "source": [
        "a"
      ],
      "execution_count": null,
      "outputs": []
    },
    {
      "cell_type": "code",
      "metadata": {
        "id": "557UhzayQoN0"
      },
      "source": [
        "a[4:6, 1:3]"
      ],
      "execution_count": null,
      "outputs": []
    },
    {
      "cell_type": "code",
      "metadata": {
        "id": "d9upZYtYnh9w"
      },
      "source": [
        "a[2:5, 2:4]  #Selecting a Subset of a Two-Dimensional array’s Columns"
      ],
      "execution_count": null,
      "outputs": []
    },
    {
      "cell_type": "code",
      "metadata": {
        "id": "SfVvKwglgvwn"
      },
      "source": [
        "a[3:4, 2:4]"
      ],
      "execution_count": null,
      "outputs": []
    },
    {
      "cell_type": "markdown",
      "metadata": {
        "id": "c9xQFlfZGBES"
      },
      "source": [
        "#Shallow and Deep Copy"
      ]
    },
    {
      "cell_type": "code",
      "metadata": {
        "id": "2yQIsGp8D8U7"
      },
      "source": [
        "import copy\r\n",
        "\r\n",
        "li1 = [1, 2, [3,5], 4]  "
      ],
      "execution_count": null,
      "outputs": []
    },
    {
      "cell_type": "code",
      "metadata": {
        "id": "pNO6iR9EkT7p"
      },
      "source": [
        "li2 = copy.deepcopy(li1) "
      ],
      "execution_count": null,
      "outputs": []
    },
    {
      "cell_type": "code",
      "metadata": {
        "id": "A-zlMp8Kkheq"
      },
      "source": [
        "li2"
      ],
      "execution_count": null,
      "outputs": []
    },
    {
      "cell_type": "code",
      "metadata": {
        "id": "-rmtdDYHmE8G"
      },
      "source": [
        "li1"
      ],
      "execution_count": null,
      "outputs": []
    },
    {
      "cell_type": "code",
      "metadata": {
        "id": "4nj0b8NKmaO1"
      },
      "source": [
        "li2[2][0] = 'Z'"
      ],
      "execution_count": null,
      "outputs": []
    },
    {
      "cell_type": "code",
      "metadata": {
        "id": "OuOa3o9kmmKd"
      },
      "source": [
        "li2"
      ],
      "execution_count": null,
      "outputs": []
    },
    {
      "cell_type": "code",
      "metadata": {
        "id": "6jnKPZERmpMm"
      },
      "source": [
        "li1"
      ],
      "execution_count": null,
      "outputs": []
    },
    {
      "cell_type": "markdown",
      "metadata": {
        "id": "sZoNAV8iGYRX"
      },
      "source": [
        "#Shape and Reshape"
      ]
    },
    {
      "cell_type": "code",
      "metadata": {
        "id": "jer4GrbwdS-f"
      },
      "source": [
        "temp = np.linspace(0,100,12)"
      ],
      "execution_count": null,
      "outputs": []
    },
    {
      "cell_type": "code",
      "metadata": {
        "id": "AjpsbHVROLoZ"
      },
      "source": [
        "temp"
      ],
      "execution_count": null,
      "outputs": []
    },
    {
      "cell_type": "code",
      "metadata": {
        "id": "1PI0SIjYeVn-"
      },
      "source": [
        "temp.shape"
      ],
      "execution_count": null,
      "outputs": []
    },
    {
      "cell_type": "code",
      "metadata": {
        "id": "66VNrDvEvVkF"
      },
      "source": [
        "temperatures = np.around(temp, decimals=1)\r\n",
        "temperatures"
      ],
      "execution_count": null,
      "outputs": []
    },
    {
      "cell_type": "code",
      "metadata": {
        "id": "FRJFbBtDpGnr"
      },
      "source": [
        "t1 = temperatures.reshape(3,4)\r\n",
        "t1"
      ],
      "execution_count": null,
      "outputs": []
    },
    {
      "cell_type": "code",
      "metadata": {
        "id": "yvczAOpJGouu"
      },
      "source": [
        "t2 = temperatures.reshape(2,3,2)\r\n",
        "t2"
      ],
      "execution_count": null,
      "outputs": []
    },
    {
      "cell_type": "markdown",
      "metadata": {
        "id": "SByp3ix9qfkW"
      },
      "source": [
        "Transposing"
      ]
    },
    {
      "cell_type": "code",
      "metadata": {
        "id": "9y7Nw1WfeCDU"
      },
      "source": [
        "z = np.swapaxes(t2, 0, 2)\r\n",
        "z"
      ],
      "execution_count": null,
      "outputs": []
    },
    {
      "cell_type": "code",
      "metadata": {
        "id": "zSIMb_ApkXlh"
      },
      "source": [
        "z.T"
      ],
      "execution_count": null,
      "outputs": []
    },
    {
      "cell_type": "code",
      "metadata": {
        "id": "eRrK7LBA4RIa"
      },
      "source": [
        ""
      ],
      "execution_count": null,
      "outputs": []
    }
  ]
}
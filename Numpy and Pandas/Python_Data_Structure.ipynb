{
  "nbformat": 4,
  "nbformat_minor": 0,
  "metadata": {
    "colab": {
      "name": "Python Data Structure.ipynb",
      "provenance": [],
      "collapsed_sections": []
    },
    "kernelspec": {
      "name": "python3",
      "display_name": "Python 3"
    }
  },
  "cells": [
    {
      "cell_type": "markdown",
      "metadata": {
        "id": "K32ODgFbPyZJ"
      },
      "source": [
        "#List"
      ]
    },
    {
      "cell_type": "code",
      "metadata": {
        "id": "W13oZlZ1PuPb"
      },
      "source": [
        "lst0=[1,2,3,32,2.23,43.23,\"python\",[2,32,3]]"
      ],
      "execution_count": 1,
      "outputs": []
    },
    {
      "cell_type": "code",
      "metadata": {
        "colab": {
          "base_uri": "https://localhost:8080/"
        },
        "id": "DfT_tvLCQQkF",
        "outputId": "d9b3b94c-6d86-4e25-c720-878b19d80d71"
      },
      "source": [
        "lst0"
      ],
      "execution_count": 2,
      "outputs": [
        {
          "output_type": "execute_result",
          "data": {
            "text/plain": [
              "[1, 2, 3, 32, 2.23, 43.23, 'python', [2, 32, 3]]"
            ]
          },
          "metadata": {
            "tags": []
          },
          "execution_count": 2
        }
      ]
    },
    {
      "cell_type": "code",
      "metadata": {
        "id": "emJyoOJWP9ju"
      },
      "source": [
        "lst1=[]"
      ],
      "execution_count": 3,
      "outputs": []
    },
    {
      "cell_type": "code",
      "metadata": {
        "colab": {
          "base_uri": "https://localhost:8080/"
        },
        "id": "0I7mg2oQQUdV",
        "outputId": "157261f3-4735-4de6-e907-07ed41c9af14"
      },
      "source": [
        "lst1"
      ],
      "execution_count": 4,
      "outputs": [
        {
          "output_type": "execute_result",
          "data": {
            "text/plain": [
              "[]"
            ]
          },
          "metadata": {
            "tags": []
          },
          "execution_count": 4
        }
      ]
    },
    {
      "cell_type": "code",
      "metadata": {
        "colab": {
          "base_uri": "https://localhost:8080/"
        },
        "id": "NLCcH3PpVLCi",
        "outputId": "3777c4e0-6963-4444-8afe-9002afbfe854"
      },
      "source": [
        "array={1,3,5,7}\r\n",
        "array"
      ],
      "execution_count": 5,
      "outputs": [
        {
          "output_type": "execute_result",
          "data": {
            "text/plain": [
              "{1, 3, 5, 7}"
            ]
          },
          "metadata": {
            "tags": []
          },
          "execution_count": 5
        }
      ]
    },
    {
      "cell_type": "code",
      "metadata": {
        "colab": {
          "base_uri": "https://localhost:8080/"
        },
        "id": "HSpqgnCQQGBs",
        "outputId": "336ccb6c-b0ea-406e-bd37-7ed8388babec"
      },
      "source": [
        "lst2=list(array)\r\n",
        "lst2"
      ],
      "execution_count": 9,
      "outputs": [
        {
          "output_type": "execute_result",
          "data": {
            "text/plain": [
              "[1, 3, 5, 7]"
            ]
          },
          "metadata": {
            "tags": []
          },
          "execution_count": 9
        }
      ]
    },
    {
      "cell_type": "code",
      "metadata": {
        "colab": {
          "base_uri": "https://localhost:8080/"
        },
        "id": "9v0aU0BRVSj3",
        "outputId": "2e27f70a-a9ef-4ef5-ca81-2145edffcebf"
      },
      "source": [
        "type(lst2)"
      ],
      "execution_count": 10,
      "outputs": [
        {
          "output_type": "execute_result",
          "data": {
            "text/plain": [
              "list"
            ]
          },
          "metadata": {
            "tags": []
          },
          "execution_count": 10
        }
      ]
    },
    {
      "cell_type": "code",
      "metadata": {
        "colab": {
          "base_uri": "https://localhost:8080/"
        },
        "id": "8dqubZtUVs3I",
        "outputId": "3e16f3ba-ba22-4109-95c6-8eee92a7868e"
      },
      "source": [
        "for i in lst0:\r\n",
        "    print(i,end=' ')\r\n",
        "print('')"
      ],
      "execution_count": 8,
      "outputs": [
        {
          "output_type": "stream",
          "text": [
            "1 2 3 32 2.23 43.23 python [2, 32, 3] \n"
          ],
          "name": "stdout"
        }
      ]
    },
    {
      "cell_type": "code",
      "metadata": {
        "colab": {
          "base_uri": "https://localhost:8080/",
          "height": 269
        },
        "id": "xnUADtVoV1Np",
        "outputId": "3eed98a4-9af2-4293-e2c3-de270fac5141"
      },
      "source": [
        "lst0=[1,2,3,32,2.23,43.23,\"python\",[2,32,3]]\r\n",
        "print(lst0[2])\r\n",
        "print(lst0[6])\r\n",
        "print(lst0[-2])\r\n",
        "print(lst0[-10])"
      ],
      "execution_count": 11,
      "outputs": [
        {
          "output_type": "stream",
          "text": [
            "3\n",
            "python\n",
            "python\n"
          ],
          "name": "stdout"
        },
        {
          "output_type": "error",
          "ename": "IndexError",
          "evalue": "ignored",
          "traceback": [
            "\u001b[0;31m---------------------------------------------------------------------------\u001b[0m",
            "\u001b[0;31mIndexError\u001b[0m                                Traceback (most recent call last)",
            "\u001b[0;32m<ipython-input-11-34078428d2ff>\u001b[0m in \u001b[0;36m<module>\u001b[0;34m()\u001b[0m\n\u001b[1;32m      3\u001b[0m \u001b[0mprint\u001b[0m\u001b[0;34m(\u001b[0m\u001b[0mlst0\u001b[0m\u001b[0;34m[\u001b[0m\u001b[0;36m6\u001b[0m\u001b[0;34m]\u001b[0m\u001b[0;34m)\u001b[0m\u001b[0;34m\u001b[0m\u001b[0;34m\u001b[0m\u001b[0m\n\u001b[1;32m      4\u001b[0m \u001b[0mprint\u001b[0m\u001b[0;34m(\u001b[0m\u001b[0mlst0\u001b[0m\u001b[0;34m[\u001b[0m\u001b[0;34m-\u001b[0m\u001b[0;36m2\u001b[0m\u001b[0;34m]\u001b[0m\u001b[0;34m)\u001b[0m\u001b[0;34m\u001b[0m\u001b[0;34m\u001b[0m\u001b[0m\n\u001b[0;32m----> 5\u001b[0;31m \u001b[0mprint\u001b[0m\u001b[0;34m(\u001b[0m\u001b[0mlst0\u001b[0m\u001b[0;34m[\u001b[0m\u001b[0;34m-\u001b[0m\u001b[0;36m10\u001b[0m\u001b[0;34m]\u001b[0m\u001b[0;34m)\u001b[0m\u001b[0;34m\u001b[0m\u001b[0;34m\u001b[0m\u001b[0m\n\u001b[0m",
            "\u001b[0;31mIndexError\u001b[0m: list index out of range"
          ]
        }
      ]
    },
    {
      "cell_type": "code",
      "metadata": {
        "colab": {
          "base_uri": "https://localhost:8080/"
        },
        "id": "7_njZRBrWeaF",
        "outputId": "0a97a9eb-f940-4a9e-efb5-49e1d1c5eb8b"
      },
      "source": [
        "#list slicing\r\n",
        "\r\n",
        "lst0=[1,2,3,32,2.23,43.23,\"python\",[2,32,3]]\r\n",
        "\r\n",
        "print(lst0[2:7])\r\n",
        "print(lst0[2:])\r\n",
        "print(lst0[:5])\r\n",
        "print(lst0[:])"
      ],
      "execution_count": 12,
      "outputs": [
        {
          "output_type": "stream",
          "text": [
            "[3, 32, 2.23, 43.23, 'python']\n",
            "[3, 32, 2.23, 43.23, 'python', [2, 32, 3]]\n",
            "[1, 2, 3, 32, 2.23]\n",
            "[1, 2, 3, 32, 2.23, 43.23, 'python', [2, 32, 3]]\n"
          ],
          "name": "stdout"
        }
      ]
    },
    {
      "cell_type": "code",
      "metadata": {
        "colab": {
          "base_uri": "https://localhost:8080/"
        },
        "id": "J8YCM3gkWpPw",
        "outputId": "d85dfa78-b533-41aa-ac52-73022aa8b312"
      },
      "source": [
        "#List operations\r\n",
        "\r\n",
        "lst0=[1,2,3,32,2.23,43.23,\"python\",[2,32,3]]\r\n",
        "\r\n",
        "print(len(lst0))                #len( ) gives the length of the list\r\n",
        "\r\n",
        "lst0.append([12,2,12,2])        #append( ) inserts an element to the end of the list\r\n",
        "print(lst0)\r\n",
        "\r\n",
        "lst0.insert(2,\"pandas\")         #insert( ) insertes an element on a given index\r\n",
        "print(lst0)\r\n",
        "\r\n",
        "lst0.remove(3)                  #remove( ) removes first occurence of an element\r\n",
        "print(lst0)\r\n",
        "\r\n",
        "print(lst0.count('pandas'))     #count( ) reuturns the number of occurence of an element\r\n",
        "\r\n",
        "lst0.pop(2)                     #pop element from list\r\n",
        "print(lst0)\r\n",
        "\r\n",
        "print(lst0.reverse())           #reverse( ) makes a reverse list\r\n",
        "\r\n",
        "lst1=lst0.copy()                #copy( ) makes a copy of list\r\n",
        "print(lst1)\r\n",
        "\r\n",
        "lst0.clear()                    #clear( ) makes the list empty\r\n",
        "print(lst0)"
      ],
      "execution_count": 41,
      "outputs": [
        {
          "output_type": "stream",
          "text": [
            "8\n",
            "[1, 2, 3, 32, 2.23, 43.23, 'python', [2, 32, 3], [12, 2, 12, 2]]\n",
            "[1, 2, 'pandas', 3, 32, 2.23, 43.23, 'python', [2, 32, 3], [12, 2, 12, 2]]\n",
            "[1, 2, 'pandas', 32, 2.23, 43.23, 'python', [2, 32, 3], [12, 2, 12, 2]]\n",
            "1\n",
            "[1, 2, 32, 2.23, 43.23, 'python', [2, 32, 3], [12, 2, 12, 2]]\n",
            "None\n",
            "[[12, 2, 12, 2], [2, 32, 3], 'python', 43.23, 2.23, 32, 2, 1]\n",
            "[]\n"
          ],
          "name": "stdout"
        }
      ]
    },
    {
      "cell_type": "code",
      "metadata": {
        "id": "ciTO619wW_ff"
      },
      "source": [
        "#list sorting\r\n",
        "lst2=[1,2,4,2,4,2,4,2,5,6,7,4]"
      ],
      "execution_count": 17,
      "outputs": []
    },
    {
      "cell_type": "code",
      "metadata": {
        "colab": {
          "base_uri": "https://localhost:8080/"
        },
        "id": "-5-O6QhCXLXM",
        "outputId": "381d5319-5028-431d-b4e9-e7f4cb8c88c9"
      },
      "source": [
        "lst3=sorted(lst2)\r\n",
        "print(lst3)"
      ],
      "execution_count": 18,
      "outputs": [
        {
          "output_type": "stream",
          "text": [
            "[1, 2, 2, 2, 2, 4, 4, 4, 4, 5, 6, 7]\n"
          ],
          "name": "stdout"
        }
      ]
    },
    {
      "cell_type": "code",
      "metadata": {
        "colab": {
          "base_uri": "https://localhost:8080/"
        },
        "id": "hU2wSE1rXHPz",
        "outputId": "dc90bdd2-9d0d-48a0-f4f5-0d15651ffc0b"
      },
      "source": [
        "lst2.sort()\r\n",
        "print(lst2)"
      ],
      "execution_count": 19,
      "outputs": [
        {
          "output_type": "stream",
          "text": [
            "[1, 2, 2, 2, 2, 4, 4, 4, 4, 5, 6, 7]\n"
          ],
          "name": "stdout"
        }
      ]
    },
    {
      "cell_type": "code",
      "metadata": {
        "colab": {
          "base_uri": "https://localhost:8080/"
        },
        "id": "JBkRZEJqYWth",
        "outputId": "454c9193-dbe6-4b65-d7e8-a9e7509ad9a0"
      },
      "source": [
        "#unpacking sequences\r\n",
        "\r\n",
        "lst=[2.23,43.23,\"python\",[2,32,3]]\r\n",
        "a,b,c,d = lst\r\n",
        "print(a)\r\n",
        "print(b)\r\n",
        "print(c)\r\n",
        "print(d)"
      ],
      "execution_count": 29,
      "outputs": [
        {
          "output_type": "stream",
          "text": [
            "2.23\n",
            "43.23\n",
            "python\n",
            "[2, 32, 3]\n"
          ],
          "name": "stdout"
        }
      ]
    },
    {
      "cell_type": "markdown",
      "metadata": {
        "id": "d8oz-g72XXe1"
      },
      "source": [
        "#Tuple"
      ]
    },
    {
      "cell_type": "code",
      "metadata": {
        "colab": {
          "base_uri": "https://localhost:8080/"
        },
        "id": "Gvp_J8qOXZ8K",
        "outputId": "b0cb466c-3018-4e85-ad17-14ba3e8ef299"
      },
      "source": [
        "tp0=(1,2,3,32,2.23,43.23,\"python\",[2,32,3])\r\n",
        "print(tp0)\r\n",
        "tp1=()\r\n",
        "print(tp1)"
      ],
      "execution_count": 20,
      "outputs": [
        {
          "output_type": "stream",
          "text": [
            "(1, 2, 3, 32, 2.23, 43.23, 'python', [2, 32, 3])\n",
            "()\n"
          ],
          "name": "stdout"
        }
      ]
    },
    {
      "cell_type": "code",
      "metadata": {
        "colab": {
          "base_uri": "https://localhost:8080/"
        },
        "id": "dsLtG6RIXuj_",
        "outputId": "4e17fd3a-2420-4426-ddd7-a54063b403b1"
      },
      "source": [
        "type(tp0)"
      ],
      "execution_count": 24,
      "outputs": [
        {
          "output_type": "execute_result",
          "data": {
            "text/plain": [
              "tuple"
            ]
          },
          "metadata": {
            "tags": []
          },
          "execution_count": 24
        }
      ]
    },
    {
      "cell_type": "code",
      "metadata": {
        "colab": {
          "base_uri": "https://localhost:8080/"
        },
        "id": "xs_CMGv0Xl0W",
        "outputId": "43a436b2-028e-428e-bede-8c5b0d923862"
      },
      "source": [
        "array={1,3,5,7}\r\n",
        "array"
      ],
      "execution_count": 22,
      "outputs": [
        {
          "output_type": "execute_result",
          "data": {
            "text/plain": [
              "{1, 3, 5, 7}"
            ]
          },
          "metadata": {
            "tags": []
          },
          "execution_count": 22
        }
      ]
    },
    {
      "cell_type": "code",
      "metadata": {
        "colab": {
          "base_uri": "https://localhost:8080/"
        },
        "id": "uTR8QAnTXora",
        "outputId": "cfd995d5-e166-4e0f-e5a7-e79573150ecf"
      },
      "source": [
        "tp2=tuple(array)\r\n",
        "print(tp2)"
      ],
      "execution_count": 23,
      "outputs": [
        {
          "output_type": "stream",
          "text": [
            "(1, 3, 5, 7)\n"
          ],
          "name": "stdout"
        }
      ]
    },
    {
      "cell_type": "code",
      "metadata": {
        "colab": {
          "base_uri": "https://localhost:8080/"
        },
        "id": "HBe_R5X4X5nc",
        "outputId": "a7a205f3-d2a3-497f-82af-bc894ae13294"
      },
      "source": [
        "#iterating tuple\r\n",
        "\r\n",
        "tp0=(1,2,3,32,2.23,43.23,\"python\",[2,32,3])\r\n",
        "for i in tp0:\r\n",
        "    print(i,end=' ')\r\n",
        "print('')"
      ],
      "execution_count": 25,
      "outputs": [
        {
          "output_type": "stream",
          "text": [
            "1 2 3 32 2.23 43.23 python [2, 32, 3] \n"
          ],
          "name": "stdout"
        }
      ]
    },
    {
      "cell_type": "code",
      "metadata": {
        "colab": {
          "base_uri": "https://localhost:8080/",
          "height": 269
        },
        "id": "izGaAWGHX_TB",
        "outputId": "93cdd36a-66b8-4e87-cd97-c08acf298374"
      },
      "source": [
        "tp0=(1,2,3,32,2.23,43.23,\"python\",[2,32,3])\r\n",
        "print(tp0[2])\r\n",
        "print(tp0[6])\r\n",
        "print(tp0[-2])\r\n",
        "print(tp0[-10])"
      ],
      "execution_count": 27,
      "outputs": [
        {
          "output_type": "stream",
          "text": [
            "3\n",
            "python\n",
            "python\n"
          ],
          "name": "stdout"
        },
        {
          "output_type": "error",
          "ename": "IndexError",
          "evalue": "ignored",
          "traceback": [
            "\u001b[0;31m---------------------------------------------------------------------------\u001b[0m",
            "\u001b[0;31mIndexError\u001b[0m                                Traceback (most recent call last)",
            "\u001b[0;32m<ipython-input-27-c491501878ec>\u001b[0m in \u001b[0;36m<module>\u001b[0;34m()\u001b[0m\n\u001b[1;32m      3\u001b[0m \u001b[0mprint\u001b[0m\u001b[0;34m(\u001b[0m\u001b[0mtp0\u001b[0m\u001b[0;34m[\u001b[0m\u001b[0;36m6\u001b[0m\u001b[0;34m]\u001b[0m\u001b[0;34m)\u001b[0m\u001b[0;34m\u001b[0m\u001b[0;34m\u001b[0m\u001b[0m\n\u001b[1;32m      4\u001b[0m \u001b[0mprint\u001b[0m\u001b[0;34m(\u001b[0m\u001b[0mtp0\u001b[0m\u001b[0;34m[\u001b[0m\u001b[0;34m-\u001b[0m\u001b[0;36m2\u001b[0m\u001b[0;34m]\u001b[0m\u001b[0;34m)\u001b[0m\u001b[0;34m\u001b[0m\u001b[0;34m\u001b[0m\u001b[0m\n\u001b[0;32m----> 5\u001b[0;31m \u001b[0mprint\u001b[0m\u001b[0;34m(\u001b[0m\u001b[0mtp0\u001b[0m\u001b[0;34m[\u001b[0m\u001b[0;34m-\u001b[0m\u001b[0;36m10\u001b[0m\u001b[0;34m]\u001b[0m\u001b[0;34m)\u001b[0m\u001b[0;34m\u001b[0m\u001b[0;34m\u001b[0m\u001b[0m\n\u001b[0m",
            "\u001b[0;31mIndexError\u001b[0m: tuple index out of range"
          ]
        }
      ]
    },
    {
      "cell_type": "code",
      "metadata": {
        "colab": {
          "base_uri": "https://localhost:8080/"
        },
        "id": "6b12eeiVYKuC",
        "outputId": "a7b92bd9-a1df-4c94-f146-a2f6164545a6"
      },
      "source": [
        "#inserting into tuple\r\n",
        "\r\n",
        "tp0 = (1,2,3,32,2.23,43.23,\"python\",[2,32,3])\r\n",
        "tp0 = tp0 + (\"pandas\",232,3,232,3)\r\n",
        "print(tp0)"
      ],
      "execution_count": 42,
      "outputs": [
        {
          "output_type": "stream",
          "text": [
            "(1, 2, 3, 32, 2.23, 43.23, 'python', [2, 32, 3], 'pandas', 232, 3, 232, 3)\n"
          ],
          "name": "stdout"
        }
      ]
    },
    {
      "cell_type": "code",
      "metadata": {
        "colab": {
          "base_uri": "https://localhost:8080/"
        },
        "id": "xc_nHPx4cy84",
        "outputId": "77763066-f713-4c95-bab4-d112bc59cf58"
      },
      "source": [
        "print(tp0.count(3))"
      ],
      "execution_count": 43,
      "outputs": [
        {
          "output_type": "stream",
          "text": [
            "3\n"
          ],
          "name": "stdout"
        }
      ]
    },
    {
      "cell_type": "code",
      "metadata": {
        "colab": {
          "base_uri": "https://localhost:8080/"
        },
        "id": "L-dcIcZuc-CA",
        "outputId": "51011db2-f455-47ec-a1ce-d22d9d8d741d"
      },
      "source": [
        "print(tp0.index([2, 32, 3]))"
      ],
      "execution_count": 44,
      "outputs": [
        {
          "output_type": "stream",
          "text": [
            "7\n"
          ],
          "name": "stdout"
        }
      ]
    },
    {
      "cell_type": "code",
      "metadata": {
        "colab": {
          "base_uri": "https://localhost:8080/",
          "height": 175
        },
        "id": "Pfa9kmNodeUs",
        "outputId": "ab68d1b9-2484-4331-db4e-9632dab3c82f"
      },
      "source": [
        "tp0[3] = 6"
      ],
      "execution_count": 45,
      "outputs": [
        {
          "output_type": "error",
          "ename": "TypeError",
          "evalue": "ignored",
          "traceback": [
            "\u001b[0;31m---------------------------------------------------------------------------\u001b[0m",
            "\u001b[0;31mTypeError\u001b[0m                                 Traceback (most recent call last)",
            "\u001b[0;32m<ipython-input-45-68b775024582>\u001b[0m in \u001b[0;36m<module>\u001b[0;34m()\u001b[0m\n\u001b[0;32m----> 1\u001b[0;31m \u001b[0mtp0\u001b[0m\u001b[0;34m[\u001b[0m\u001b[0;36m3\u001b[0m\u001b[0;34m]\u001b[0m \u001b[0;34m=\u001b[0m \u001b[0;36m6\u001b[0m\u001b[0;34m\u001b[0m\u001b[0;34m\u001b[0m\u001b[0m\n\u001b[0m",
            "\u001b[0;31mTypeError\u001b[0m: 'tuple' object does not support item assignment"
          ]
        }
      ]
    },
    {
      "cell_type": "code",
      "metadata": {
        "id": "5feTZhu2d4oI"
      },
      "source": [
        "del tp0"
      ],
      "execution_count": 47,
      "outputs": []
    },
    {
      "cell_type": "code",
      "metadata": {
        "colab": {
          "base_uri": "https://localhost:8080/",
          "height": 175
        },
        "id": "JHVvmBpOd70H",
        "outputId": "eb24aa5b-5eda-405c-a7d1-271af62e233a"
      },
      "source": [
        "tp0"
      ],
      "execution_count": 48,
      "outputs": [
        {
          "output_type": "error",
          "ename": "NameError",
          "evalue": "ignored",
          "traceback": [
            "\u001b[0;31m---------------------------------------------------------------------------\u001b[0m",
            "\u001b[0;31mNameError\u001b[0m                                 Traceback (most recent call last)",
            "\u001b[0;32m<ipython-input-48-37d2c903759f>\u001b[0m in \u001b[0;36m<module>\u001b[0;34m()\u001b[0m\n\u001b[0;32m----> 1\u001b[0;31m \u001b[0mtp0\u001b[0m\u001b[0;34m\u001b[0m\u001b[0;34m\u001b[0m\u001b[0m\n\u001b[0m",
            "\u001b[0;31mNameError\u001b[0m: name 'tp0' is not defined"
          ]
        }
      ]
    },
    {
      "cell_type": "markdown",
      "metadata": {
        "id": "D7mapFrSeaRN"
      },
      "source": [
        "#Dictionary"
      ]
    },
    {
      "cell_type": "code",
      "metadata": {
        "colab": {
          "base_uri": "https://localhost:8080/"
        },
        "id": "m3T-kLq8eUDM",
        "outputId": "bfbc42f3-a27a-467e-ddeb-bd8db0760201"
      },
      "source": [
        "my_dict = {1: 'Python', 2: 'Java',3: 'C++', 4: 'Swift'}\r\n",
        "print(my_dict)\r\n",
        "\r\n",
        "my_dict1 = {} \r\n",
        "print(my_dict1)"
      ],
      "execution_count": 67,
      "outputs": [
        {
          "output_type": "stream",
          "text": [
            "{1: 'Python', 2: 'Java', 3: 'C++', 4: 'Swift'}\n",
            "{}\n"
          ],
          "name": "stdout"
        }
      ]
    },
    {
      "cell_type": "code",
      "metadata": {
        "colab": {
          "base_uri": "https://localhost:8080/"
        },
        "id": "NQfmy6G6eq5C",
        "outputId": "4704b8a1-0121-4cfe-aea1-2fe6519cca05"
      },
      "source": [
        "type(my_dict)"
      ],
      "execution_count": 68,
      "outputs": [
        {
          "output_type": "execute_result",
          "data": {
            "text/plain": [
              "dict"
            ]
          },
          "metadata": {
            "tags": []
          },
          "execution_count": 68
        }
      ]
    },
    {
      "cell_type": "code",
      "metadata": {
        "colab": {
          "base_uri": "https://localhost:8080/"
        },
        "id": "NVAJyIYxfQZv",
        "outputId": "1dac7d7f-5da0-420d-ba6b-9bc28f9abaed"
      },
      "source": [
        "my_dict[2] = 'JAVA' #changing element\r\n",
        "my_dict"
      ],
      "execution_count": 69,
      "outputs": [
        {
          "output_type": "execute_result",
          "data": {
            "text/plain": [
              "{1: 'Python', 2: 'JAVA', 3: 'C++', 4: 'Swift'}"
            ]
          },
          "metadata": {
            "tags": []
          },
          "execution_count": 69
        }
      ]
    },
    {
      "cell_type": "code",
      "metadata": {
        "colab": {
          "base_uri": "https://localhost:8080/"
        },
        "id": "dOfBLmuzf2Xh",
        "outputId": "c8fca482-5bc8-458d-b25d-1193ccacad3b"
      },
      "source": [
        "my_dict[5] = 'Ruby' #adding key-value pair\r\n",
        "print(my_dict)"
      ],
      "execution_count": 70,
      "outputs": [
        {
          "output_type": "stream",
          "text": [
            "{1: 'Python', 2: 'JAVA', 3: 'C++', 4: 'Swift', 5: 'Ruby'}\n"
          ],
          "name": "stdout"
        }
      ]
    },
    {
      "cell_type": "code",
      "metadata": {
        "colab": {
          "base_uri": "https://localhost:8080/",
          "height": 36
        },
        "id": "RyguEbIugHO6",
        "outputId": "2fd52b4a-47f0-47a2-c53b-9d2146c50bd1"
      },
      "source": [
        "my_dict[4]"
      ],
      "execution_count": 72,
      "outputs": [
        {
          "output_type": "execute_result",
          "data": {
            "application/vnd.google.colaboratory.intrinsic+json": {
              "type": "string"
            },
            "text/plain": [
              "'Swift'"
            ]
          },
          "metadata": {
            "tags": []
          },
          "execution_count": 72
        }
      ]
    },
    {
      "cell_type": "code",
      "metadata": {
        "colab": {
          "base_uri": "https://localhost:8080/"
        },
        "id": "naZn7zkXgV8Q",
        "outputId": "155e80de-fd4f-4b8d-9a80-c79834abfbbb"
      },
      "source": [
        "my_dict.pop(4)\r\n",
        "my_dict"
      ],
      "execution_count": 73,
      "outputs": [
        {
          "output_type": "execute_result",
          "data": {
            "text/plain": [
              "{1: 'Python', 2: 'JAVA', 3: 'C++', 5: 'Ruby'}"
            ]
          },
          "metadata": {
            "tags": []
          },
          "execution_count": 73
        }
      ]
    },
    {
      "cell_type": "code",
      "metadata": {
        "colab": {
          "base_uri": "https://localhost:8080/"
        },
        "id": "cM18CKZOgiUu",
        "outputId": "618496ec-307d-4a0f-9524-4ef03614dee4"
      },
      "source": [
        "my_dict.popitem()\r\n",
        "my_dict"
      ],
      "execution_count": 74,
      "outputs": [
        {
          "output_type": "execute_result",
          "data": {
            "text/plain": [
              "{1: 'Python', 2: 'JAVA', 3: 'C++'}"
            ]
          },
          "metadata": {
            "tags": []
          },
          "execution_count": 74
        }
      ]
    },
    {
      "cell_type": "code",
      "metadata": {
        "id": "-HTnvja9gn-Q"
      },
      "source": [
        "my_dict.clear()"
      ],
      "execution_count": 75,
      "outputs": []
    },
    {
      "cell_type": "code",
      "metadata": {
        "colab": {
          "base_uri": "https://localhost:8080/"
        },
        "id": "voOBjlAfgpqJ",
        "outputId": "93dabcc1-f2a4-4faf-935e-18b4ac138d73"
      },
      "source": [
        "my_dict"
      ],
      "execution_count": 76,
      "outputs": [
        {
          "output_type": "execute_result",
          "data": {
            "text/plain": [
              "{}"
            ]
          },
          "metadata": {
            "tags": []
          },
          "execution_count": 76
        }
      ]
    },
    {
      "cell_type": "code",
      "metadata": {
        "colab": {
          "base_uri": "https://localhost:8080/"
        },
        "id": "YybOV8hFgynm",
        "outputId": "fdcaafd1-687b-419b-9a8e-653ee75f5099"
      },
      "source": [
        "my_dict = {1: 'Python', 2: 'Java', 3: 'Ruby'}\r\n",
        "print(my_dict.keys()) #get keys\r\n",
        "print(my_dict.values()) #get values\r\n",
        "print(my_dict.items()) #get key-value pairs\r\n",
        "print(my_dict.get(1))"
      ],
      "execution_count": 78,
      "outputs": [
        {
          "output_type": "stream",
          "text": [
            "dict_keys([1, 2, 3])\n",
            "dict_values(['Python', 'Java', 'Ruby'])\n",
            "dict_items([(1, 'Python'), (2, 'Java'), (3, 'Ruby')])\n",
            "Python\n"
          ],
          "name": "stdout"
        }
      ]
    },
    {
      "cell_type": "markdown",
      "metadata": {
        "id": "T4QFHz6BhI4N"
      },
      "source": [
        "#Set"
      ]
    },
    {
      "cell_type": "code",
      "metadata": {
        "colab": {
          "base_uri": "https://localhost:8080/"
        },
        "id": "fxbcqCJThKuc",
        "outputId": "7d977b74-a8a1-41d3-8970-6385cf20884b"
      },
      "source": [
        "my_set = {1, 2, 3, 4, 5, 5, 5}\r\n",
        "print(my_set)"
      ],
      "execution_count": 84,
      "outputs": [
        {
          "output_type": "stream",
          "text": [
            "{1, 2, 3, 4, 5}\n"
          ],
          "name": "stdout"
        }
      ]
    },
    {
      "cell_type": "code",
      "metadata": {
        "colab": {
          "base_uri": "https://localhost:8080/"
        },
        "id": "KfGB1FFZhbSD",
        "outputId": "9884d3a8-f8f7-4d90-8afe-2422b0019a37"
      },
      "source": [
        "my_set1 = {}\r\n",
        "print(my_set1)"
      ],
      "execution_count": 88,
      "outputs": [
        {
          "output_type": "stream",
          "text": [
            "{}\n"
          ],
          "name": "stdout"
        }
      ]
    },
    {
      "cell_type": "code",
      "metadata": {
        "colab": {
          "base_uri": "https://localhost:8080/"
        },
        "id": "sOEFOS9Chf50",
        "outputId": "1d4f7f79-1c70-4cc0-d320-0e4b0b90c4d7"
      },
      "source": [
        "type(my_set)"
      ],
      "execution_count": 81,
      "outputs": [
        {
          "output_type": "execute_result",
          "data": {
            "text/plain": [
              "set"
            ]
          },
          "metadata": {
            "tags": []
          },
          "execution_count": 81
        }
      ]
    },
    {
      "cell_type": "code",
      "metadata": {
        "id": "0wjIVyruhqD0"
      },
      "source": [
        "my_set.add(7)"
      ],
      "execution_count": 82,
      "outputs": []
    },
    {
      "cell_type": "code",
      "metadata": {
        "colab": {
          "base_uri": "https://localhost:8080/"
        },
        "id": "KcTgJFYohxbT",
        "outputId": "7c1c1a87-3cfb-4ff0-c363-4966e0a045c7"
      },
      "source": [
        "my_set"
      ],
      "execution_count": 87,
      "outputs": [
        {
          "output_type": "execute_result",
          "data": {
            "text/plain": [
              "{1, 2, 3, 4, 5}"
            ]
          },
          "metadata": {
            "tags": []
          },
          "execution_count": 87
        }
      ]
    },
    {
      "cell_type": "code",
      "metadata": {
        "id": "WDJQr-H1iDom"
      },
      "source": [
        "my_set = {1, 2, 3, 4}\r\n",
        "my_set_2 = {3, 4, 5, 6}"
      ],
      "execution_count": 90,
      "outputs": []
    },
    {
      "cell_type": "code",
      "metadata": {
        "colab": {
          "base_uri": "https://localhost:8080/"
        },
        "id": "hZSeAwZQiKy7",
        "outputId": "ffebc55c-92ef-454d-d2d5-e9dd7e428ea6"
      },
      "source": [
        "my_set.union(my_set_2)"
      ],
      "execution_count": 91,
      "outputs": [
        {
          "output_type": "execute_result",
          "data": {
            "text/plain": [
              "{1, 2, 3, 4, 5, 6}"
            ]
          },
          "metadata": {
            "tags": []
          },
          "execution_count": 91
        }
      ]
    },
    {
      "cell_type": "code",
      "metadata": {
        "colab": {
          "base_uri": "https://localhost:8080/"
        },
        "id": "GPYNCYKuiTDC",
        "outputId": "8694fdbb-935f-45d8-9f12-0fb6bde27ff1"
      },
      "source": [
        "my_set.intersection(my_set_2)"
      ],
      "execution_count": 92,
      "outputs": [
        {
          "output_type": "execute_result",
          "data": {
            "text/plain": [
              "{3, 4}"
            ]
          },
          "metadata": {
            "tags": []
          },
          "execution_count": 92
        }
      ]
    },
    {
      "cell_type": "code",
      "metadata": {
        "colab": {
          "base_uri": "https://localhost:8080/"
        },
        "id": "ts6BacBhiW5a",
        "outputId": "f51cf38c-3413-47fe-93e1-affecba9cc38"
      },
      "source": [
        "my_set.difference(my_set_2)"
      ],
      "execution_count": 93,
      "outputs": [
        {
          "output_type": "execute_result",
          "data": {
            "text/plain": [
              "{1, 2}"
            ]
          },
          "metadata": {
            "tags": []
          },
          "execution_count": 93
        }
      ]
    },
    {
      "cell_type": "code",
      "metadata": {
        "colab": {
          "base_uri": "https://localhost:8080/"
        },
        "id": "lxNfmoZ2i23B",
        "outputId": "ed3d6333-f65b-400a-9c76-77e56ca40bd8"
      },
      "source": [
        "my_set.symmetric_difference(my_set_2)"
      ],
      "execution_count": 94,
      "outputs": [
        {
          "output_type": "execute_result",
          "data": {
            "text/plain": [
              "{1, 2, 5, 6}"
            ]
          },
          "metadata": {
            "tags": []
          },
          "execution_count": 94
        }
      ]
    },
    {
      "cell_type": "code",
      "metadata": {
        "id": "XzTUnGmHjHSh"
      },
      "source": [
        "my_set.clear()"
      ],
      "execution_count": 95,
      "outputs": []
    }
  ]
}
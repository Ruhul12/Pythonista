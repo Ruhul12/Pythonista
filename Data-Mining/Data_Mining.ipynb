{
  "nbformat": 4,
  "nbformat_minor": 0,
  "metadata": {
    "colab": {
      "name": "Data-Mining.ipynb",
      "provenance": []
    },
    "kernelspec": {
      "name": "python3",
      "display_name": "Python 3"
    },
    "language_info": {
      "name": "python"
    }
  },
  "cells": [
    {
      "cell_type": "code",
      "metadata": {
        "id": "E-HMt6m1LjKB"
      },
      "source": [
        "#Mounting google drive\n",
        "from google.colab import drive\n",
        "drive.mount(\"/content/gdrive\")"
      ],
      "execution_count": null,
      "outputs": []
    },
    {
      "cell_type": "code",
      "metadata": {
        "id": "PllTff5WLsA4"
      },
      "source": [
        "#Importing libraries\n",
        "import numpy as np\n",
        "import pandas as pd\n",
        "from sklearn.model_selection import train_test_split\n",
        "from sklearn.naive_bayes import GaussianNB\n",
        "from sklearn import metrics\n",
        "from sklearn.metrics import classification_report\n",
        "from sklearn.metrics import confusion_matrix,accuracy_score\n",
        "from sklearn.metrics import accuracy_score\n",
        "import matplotlib.pyplot as plt\n",
        "import seaborn as sns\n",
        "\n",
        "df = pd.read_csv('/content/gdrive/MyDrive/CSE450-Data Mining/Covid_Report.csv')\n",
        "df"
      ],
      "execution_count": null,
      "outputs": []
    },
    {
      "cell_type": "code",
      "metadata": {
        "id": "e99gn3HELvod"
      },
      "source": [
        "#Checking Null Values\n",
        "df.isnull().values.any()"
      ],
      "execution_count": null,
      "outputs": []
    },
    {
      "cell_type": "code",
      "metadata": {
        "id": "QssZAApWL4Et"
      },
      "source": [
        "#Use of mapping function\n",
        "mapping = {'Yes' :1 , 'No' : 0 }\n",
        "df['Fever'] = df['Fever'].map(mapping)\n",
        "df['Dry_Cough'] = df['Dry_Cough'].map(mapping)\n",
        "df['Difficulty_of_Breathing'] = df['Difficulty_of_Breathing'].map(mapping)\n",
        "df['Body_Pain'] = df['Body_Pain'].map(mapping)\n",
        "df['Sore_Throat'] = df['Sore_Throat'].map(mapping)\n",
        "df['Tasteless'] = df['Tasteless'].map(mapping)\n",
        "df['Loss_of_Smell'] = df['Loss_of_Smell'].map(mapping)\n",
        "df['Headache'] = df['Headache'].map(mapping)\n",
        "df['Skin_Rash'] = df['Skin_Rash'].map(mapping)\n",
        "df['Tiredness'] = df['Tiredness'].map(mapping)\n",
        "df['Report'] = df['Report'].map(mapping)\n",
        "df\n"
      ],
      "execution_count": null,
      "outputs": []
    },
    {
      "cell_type": "code",
      "metadata": {
        "id": "ktBQr-QwL_aq"
      },
      "source": [
        "#Describe\n",
        "df.describe()"
      ],
      "execution_count": null,
      "outputs": []
    },
    {
      "cell_type": "code",
      "metadata": {
        "id": "7DZsdAPuMDHl"
      },
      "source": [
        "#HeatMap\n",
        "correlation = df.corr()\n",
        "plt.figure(figsize=(16, 8))\n",
        "sns.heatmap(correlation, annot=True, linewidths=0, vmin=-1, cmap=\"RdBu_r\")\n",
        "plt.show()"
      ],
      "execution_count": null,
      "outputs": []
    },
    {
      "cell_type": "code",
      "metadata": {
        "id": "ZLvgKmoKMGqV"
      },
      "source": [
        "#Histogram (bar graphical representation)\n",
        "df.hist()"
      ],
      "execution_count": null,
      "outputs": []
    },
    {
      "cell_type": "code",
      "metadata": {
        "id": "A6hLyCVaMLEw"
      },
      "source": [
        "#PairPlot (pairwise relationship)\n",
        "sns.pairplot(df);"
      ],
      "execution_count": null,
      "outputs": []
    },
    {
      "cell_type": "code",
      "metadata": {
        "id": "YLoqfuwyMOyQ"
      },
      "source": [
        "#Setting feature & target variable\n",
        "features=['Difficulty_of_Breathing','Sore_Throat']\n",
        "x=df[features]\n",
        "y=df.Report"
      ],
      "execution_count": null,
      "outputs": []
    },
    {
      "cell_type": "code",
      "metadata": {
        "id": "_eOErXSFMVIe"
      },
      "source": [
        "#Training the model with the 75% of the data & leaving 25% data for the test\n",
        "x_train, x_test, y_train, y_test = train_test_split(x, y, test_size=0.25, random_state=5)"
      ],
      "execution_count": null,
      "outputs": []
    },
    {
      "cell_type": "code",
      "metadata": {
        "id": "taL9_NvQMb-C"
      },
      "source": [
        "#Create a model using Naive Bayes algorithm and train our model\n",
        "model=GaussianNB()\n",
        "model.fit(x_train,y_train)"
      ],
      "execution_count": null,
      "outputs": []
    },
    {
      "cell_type": "code",
      "metadata": {
        "id": "VCvxrEqIMgKm"
      },
      "source": [
        "#Predicting with test data\n",
        "predictions = model.predict(x_test)"
      ],
      "execution_count": null,
      "outputs": []
    },
    {
      "cell_type": "code",
      "metadata": {
        "id": "m7ObP4e_MknG"
      },
      "source": [
        "#Measuring the performance of model\n",
        "print('Classification Report:\\n',classification_report(y_test, predictions))\n",
        "print('Confusion Matrix:\\n',confusion_matrix(y_test, predictions))\n",
        "print('Accuracy Score:',accuracy_score(y_test, predictions))\n",
        "print(\"Precision:\",metrics.precision_score(y_test, predictions))\n",
        "print(\"Recall:\",metrics.recall_score(y_test,predictions ))"
      ],
      "execution_count": null,
      "outputs": []
    }
  ]
}